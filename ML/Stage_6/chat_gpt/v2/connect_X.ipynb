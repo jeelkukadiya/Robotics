{
 "cells": [
  {
   "cell_type": "markdown",
   "metadata": {
    "colab_type": "text",
    "id": "UICxB_OdX7Rn"
   },
   "source": [
    "# Create our environment (connect-4 game)\n",
    "\n",
    "Connect-4 is a game in which if one were to connect 4 of his moves either horizontally, vertically or diagonally, one records a win. In reinforcement learning setting, we grant reward = 1 for a win, -1 for a lose and 0.5 for a draw. The following game engine object provides five methods.\n",
    "* Render :  \n",
    "       Showing the board state with X and Os.\n",
    "* Reset : \n",
    "       For playing over and over.\n",
    "* Get available moves : \n",
    "       Scan the board state and give available moves.\n",
    "* Check game done : \n",
    "       Based on which player is making the move, check if one has won the game or a draw has resulted.\n",
    "* Make move : \n",
    "       Record the move by players and return observation and reward."
   ]
  },
  {
   "cell_type": "code",
   "execution_count": 1,
   "metadata": {
    "colab": {},
    "colab_type": "code",
    "id": "c8VjyWDXX7Rp"
   },
   "outputs": [],
   "source": [
    "import numpy as np\n",
    "import pandas as pd\n",
    "from IPython.display import display\n",
    "\n",
    "class connect_x:\n",
    "\n",
    "    def __init__(self):\n",
    "        self.board_height = 6\n",
    "        self.board_width = 7\n",
    "        self.board_state = np.zeros([self.board_height, self.board_width], dtype=np.int8)\n",
    "        self.players = {'p1': 1, 'p2': 2}\n",
    "        self.isDone = False\n",
    "        self.reward = {'win': 1, 'draw': 0.5, 'lose': -1}\n",
    "    \n",
    "    def render(self):\n",
    "        rendered_board_state = self.board_state.copy().astype(np.str)\n",
    "        rendered_board_state[self.board_state == 0] = ' '\n",
    "        rendered_board_state[self.board_state == 1] = 'O'\n",
    "        rendered_board_state[self.board_state == 2] = 'X'\n",
    "        display(pd.DataFrame(rendered_board_state))\n",
    "    \n",
    "    def reset(self):\n",
    "        self.__init__()\n",
    "        \n",
    "    def get_available_actions(self):\n",
    "        available_cols = []\n",
    "        for j in range(self.board_width):\n",
    "            if np.sum([self.board_state[:, j] == 0]) != 0:\n",
    "                available_cols.append(j)\n",
    "        return available_cols\n",
    "    \n",
    "    def check_game_done(self, player):\n",
    "        if player == 'p1':\n",
    "            check = '1 1 1 1'\n",
    "        else:\n",
    "            check = '2 2 2 2'\n",
    "        \n",
    "        # check vertically then horizontally\n",
    "        for j in range(self.board_width):\n",
    "            if check in np.array_str(self.board_state[:, j]):\n",
    "                self.isDone = True\n",
    "        for i in range(self.board_height):\n",
    "            if check in np.array_str(self.board_state[i, :]):\n",
    "                self.isDone = True\n",
    "        \n",
    "        # check left diagonal and right diagonal\n",
    "        for k in range(0, self.board_height - 4 + 1):\n",
    "            left_diagonal = np.array([self.board_state[k + d, d] for d in \\\n",
    "                            range(min(self.board_height - k, min(self.board_height, self.board_width)))])\n",
    "            right_diagonal = np.array([self.board_state[d + k, self.board_width - d - 1] for d in \\\n",
    "                            range(min(self.board_height - k, min(self.board_height, self.board_width)))])\n",
    "            if check in np.array_str(left_diagonal) or check in np.array_str(right_diagonal):\n",
    "                self.isDone = True\n",
    "        for k in range(1, self.board_width - 4 + 1):\n",
    "            left_diagonal = np.array([self.board_state[d, d + k] for d in \\\n",
    "                            range(min(self.board_width - k, min(self.board_height, self.board_width)))])\n",
    "            right_diagonal = np.array([self.board_state[d, self.board_width - 1 - k - d] for d in \\\n",
    "                            range(min(self.board_width - k, min(self.board_height, self.board_width)))])\n",
    "            if check in np.array_str(left_diagonal) or check in np.array_str(right_diagonal):\n",
    "                self.isDone = True\n",
    "        \n",
    "        if self.isDone:\n",
    "            return self.reward['win']\n",
    "        # check for draw\n",
    "        elif np.sum([self.board_state == 0]) == 0:\n",
    "            self.isDone = True\n",
    "            return self.reward['draw']\n",
    "        else:\n",
    "            return 0.\n",
    "        \n",
    "    def make_move(self, a, player):\n",
    "        # check if move is valid\n",
    "        if a in self.get_available_actions():\n",
    "            i = np.sum([self.board_state[:, a] == 0]) - 1\n",
    "            self.board_state[i, a] = self.players[player]\n",
    "        else:\n",
    "            print('Move is invalid')\n",
    "            self.render()\n",
    "\n",
    "        reward = self.check_game_done(player)\n",
    "        \n",
    "        # give feedback as new state and reward\n",
    "        return self.board_state.copy(), reward\n",
    "\n",
    "env = connect_x()"
   ]
  },
  {
   "cell_type": "markdown",
   "metadata": {
    "colab_type": "text",
    "id": "aWUNAhJQX7Rs"
   },
   "source": [
    "# Experience replay\n",
    "\n",
    "We’ll be using experience replay for training our DQN. It stores the transitions that the agent observes, allowing us to reuse this data later. By sampling from it randomly, the transitions that build up a batch are decorrelated. It has been shown that this greatly stabilizes and improves the DQN training procedure.  \n",
    "\n",
    "For a brief review of more advanced sampling algorithm mentioned in AlphaGo zero, its sampling procedure can be divided into 3 phases.\n",
    "\n",
    "* Optimization:\n",
    "      It checkpoints the deep learning agent by recording its weights every 1000 training iterations. \n",
    "* Evaluation:\n",
    "      Evaluate the checkpoints model by letting the two playing against each other for 400 games, the one wins > 55% will become the current best model (with epsilon = 0 = no exploration). \n",
    "* Self-play: \n",
    "      They will only use the current best model or player to generate training data for the optimization step.  \n",
    "\n",
    "For a more deep dive of the AlphaGo zero's impressive algorithm, readers can refer to the <a href=\"https://discovery.ucl.ac.uk/id/eprint/10045895/1/agz_unformatted_nature.pdf\">original paper</a> or this post - <a href=\"https://medium.com/@jonathan_hui/alphago-zero-a-game-changer-14ef6e45eba5\">AlphaGo Zero — a game changer</a>, the author did a great job of summarizing the details from MCTS, ResNet to self-playing. "
   ]
  },
  {
   "cell_type": "code",
   "execution_count": 3,
   "metadata": {
    "colab": {},
    "colab_type": "code",
    "id": "iKWkZ7PQX7Ru"
   },
   "outputs": [],
   "source": [
    "import random\n",
    "\n",
    "# memory block for deep q learning\n",
    "class replayMemory:\n",
    "    def __init__(self):\n",
    "        self.memory = []\n",
    "        \n",
    "    def dump(self, transition_tuple):\n",
    "        self.memory.append(transition_tuple)\n",
    "    \n",
    "    def sample(self, batch_size):\n",
    "        return random.sample(self.memory, batch_size)\n",
    "    \n",
    "    def __len__(self):\n",
    "        return len(self.memory)\n",
    "    \n",
    "memory = replayMemory()"
   ]
  },
  {
   "cell_type": "markdown",
   "metadata": {
    "colab_type": "text",
    "id": "qwM5WA4YX7Rx"
   },
   "source": [
    "# Deep Q-network\n",
    "\n",
    "Our model will be using a convolutional neural network that takes into the state as an image of board_state and output the state action function value for all states. In effect, the network is trying to predict the expected return of taking each action given the current input. But be aware that, the game's action space is changing so agent can only take legal actions.  \n",
    "\n",
    "More advanced way to deal with training a better function approximator for fully observation games like Go and Connect-4 is to preprocess input images. AlphaGo zero separated the training input image into two binary matrix of 0 and 1s made by white and black stones. Also, to handle strategic moves better, it includes the history (last 8 moves of game) as input, plus 1 extra dimension as 0 or 1 indicating whether it is the players turn to make a move, in their case, the input is therfore 19 \\* 19 \\* 17 (2 * 8 + 1) image vector. The output is a policy vector of 19 \\* 19 (the probabilities of making a moves) and a state value scalar.  \n",
    "\n",
    "For fast experimentation, our DQN will just use a single image map as 6 \\* 7 \\* 1 with 1 as the moves made by player 1 and 2 as the moves made by player 2."
   ]
  },
  {
   "cell_type": "code",
   "execution_count": 4,
   "metadata": {
    "colab": {},
    "colab_type": "code",
    "id": "dvg8TvDeX7Ry"
   },
   "outputs": [],
   "source": [
    "import torch\n",
    "import torch.nn as nn\n",
    "import torch.nn.functional as F\n",
    "\n",
    "class DQN(nn.Module):\n",
    "    \n",
    "    def __init__(self, outputs):\n",
    "        super(DQN, self).__init__()\n",
    "        # 6 by 7, 10 by 11 \n",
    "        self.conv1 = nn.Conv2d(1, 32, kernel_size=5, padding=2)\n",
    "        self.conv2 = nn.Conv2d(32, 32, kernel_size=5, padding=2)\n",
    "        self.conv3 = nn.Conv2d(32, 32, kernel_size=5, padding=2)\n",
    "        self.conv4 = nn.Conv2d(32, 32, kernel_size=5, padding=2)\n",
    "        self.conv5 = nn.Conv2d(32, 32, kernel_size=5, padding=2)\n",
    "        self.conv6 = nn.Conv2d(32, 32, kernel_size=5, padding=2)\n",
    "        self.conv7 = nn.Conv2d(32, 32, kernel_size=5, padding=2)\n",
    "\n",
    "        linear_input_size = 6 * 7 * 32\n",
    "        self.MLP1 = nn.Linear(linear_input_size, 50)\n",
    "        self.MLP2 = nn.Linear(50, 50)\n",
    "        self.MLP3 = nn.Linear(50, 50)\n",
    "        self.MLP4 = nn.Linear(50, outputs)\n",
    "        \n",
    "    def forward(self, x):\n",
    "        x = F.leaky_relu(self.conv1(x))\n",
    "        x = F.leaky_relu(self.conv2(x))\n",
    "        x = F.leaky_relu(self.conv3(x))\n",
    "        x = F.leaky_relu(self.conv4(x))\n",
    "        x = F.leaky_relu(self.conv5(x))\n",
    "        x = F.leaky_relu(self.conv6(x))\n",
    "        x = F.leaky_relu(self.conv7(x))\n",
    "        # flatten the feature vector except batch dimension\n",
    "        x = x.view(x.size(0), -1)\n",
    "        x = F.leaky_relu(self.MLP1(x))\n",
    "        x = F.leaky_relu(self.MLP2(x))\n",
    "        x = F.leaky_relu(self.MLP3(x))\n",
    "        return self.MLP4(x)"
   ]
  },
  {
   "cell_type": "markdown",
   "metadata": {
    "colab_type": "text",
    "id": "OzyS9e3yX7R1"
   },
   "source": [
    "# Agent\n",
    "Below created 2 models of the same DQN object, termed as target_net and policy_net. The creation of 2 nets instead of 1 is to stablilize the training by a lagged goal provided by target_net. The reasonale behind this will be explained more in the \"Optimizing policy\" section.  \n",
    "\n",
    "To accelerate training with at least 100x, below uses the free CPU provided by Google Colab. To use GPU in Pytorch, first is setting the CUDA device, then send the model, input and output tensors to GPU memory."
   ]
  },
  {
   "cell_type": "code",
   "execution_count": 5,
   "metadata": {
    "colab": {
     "base_uri": "https://localhost:8080/",
     "height": 34
    },
    "colab_type": "code",
    "id": "wrei1Lf2lIaA",
    "outputId": "9d7f39c7-47b7-4f4e-d235-0888025c87f8"
   },
   "outputs": [
    {
     "name": "stdout",
     "output_type": "stream",
     "text": [
      "cpu\n"
     ]
    }
   ],
   "source": [
    "device = torch.device(\"cuda:0\" if torch.cuda.is_available() else \"cpu\")\n",
    "# Assuming that we are on a CUDA machine, this should print a CUDA device:\n",
    "print(device)"
   ]
  },
  {
   "cell_type": "code",
   "execution_count": 6,
   "metadata": {
    "colab": {
     "base_uri": "https://localhost:8080/",
     "height": 294
    },
    "colab_type": "code",
    "id": "AHTx0X7TQqIU",
    "outputId": "83dd9de8-ad56-41cb-a2c9-1fdee05bad35"
   },
   "outputs": [
    {
     "data": {
      "image/png": "[encoded data removed]",
      "text/plain": [
       "<Figure size 640x480 with 1 Axes>"
      ]
     },
     "metadata": {},
     "output_type": "display_data"
    }
   ],
   "source": [
    "import matplotlib.pyplot as plt\n",
    "# epilson decay graph\n",
    "EPS_START = 0.9\n",
    "EPS_END = 0.05\n",
    "EPS_DECAY = 2000\n",
    "\n",
    "steps_done = np.arange(20000)\n",
    "eps = EPS_END + (EPS_START - EPS_END) * np.exp(-1 * steps_done / EPS_DECAY)\n",
    "plt.plot(steps_done, eps)\n",
    "plt.title('Epsilon decay graph')\n",
    "plt.xlabel('Episode no.')\n",
    "plt.ylabel('Epsilon')\n",
    "plt.show()"
   ]
  },
  {
   "cell_type": "code",
   "execution_count": 7,
   "metadata": {
    "colab": {},
    "colab_type": "code",
    "id": "yeZYuoVWX7R2"
   },
   "outputs": [],
   "source": [
    "import torch.optim as optim\n",
    "import math\n",
    "\n",
    "BATCH_SIZE = 256\n",
    "GAMMA = 0.999\n",
    "\n",
    "# get max no. of actions from action space\n",
    "n_actions = env.board_width\n",
    "\n",
    "height = env.board_height\n",
    "width = env.board_width\n",
    "\n",
    "policy_net = DQN(n_actions).to(device)\n",
    "# target_net will be updated every n episodes to tell policy_net a better estimate of how far off from convergence\n",
    "target_net = DQN(n_actions).to(device)\n",
    "target_net.load_state_dict(policy_net.state_dict())\n",
    "# set target_net in testing mode\n",
    "target_net.eval()\n",
    "\n",
    "optimizer = optim.Adam(policy_net.parameters())\n",
    "\n",
    "def select_action(state, available_actions, steps_done=None, training=True):\n",
    "    # batch and color channel\n",
    "    state = torch.tensor(state, dtype=torch.float, device=device).unsqueeze(dim=0).unsqueeze(dim=0)\n",
    "    epsilon = random.random()\n",
    "    if training:\n",
    "        eps_threshold = EPS_END + (EPS_START - EPS_END) * math.exp(-1 * steps_done / EPS_DECAY)\n",
    "    else:\n",
    "        eps_threshold = 0\n",
    "    \n",
    "    # follow epsilon-greedy policy\n",
    "    if epsilon > eps_threshold:\n",
    "        with torch.no_grad():\n",
    "            # action recommendations from policy net\n",
    "            r_actions = policy_net(state)[0, :]\n",
    "            state_action_values = [r_actions[action] for action in available_actions]\n",
    "            argmax_action = np.argmax(state_action_values)\n",
    "            greedy_action = available_actions[argmax_action]\n",
    "            return greedy_action\n",
    "    else:\n",
    "        return random.choice(available_actions)"
   ]
  },
  {
   "cell_type": "markdown",
   "metadata": {
    "colab_type": "text",
    "id": "U1-MMBuSX7R6"
   },
   "source": [
    "# Optmizing policy\n",
    "\n",
    "Now, let's define our model. But first, let quickly recap what a DQN is.\n",
    "\n",
    "Model based environment is deterministic, but model-free is not.\n",
    "Our aim will be to train a policy that tries to maximize the discounted,\n",
    "cumulative reward\n",
    "$R_{t_0} = \\sum_{t=t_0}^{\\infty} \\gamma^{t - t_0} r_t$, where\n",
    "$R_{t_0}$ is also known as the *return*. The discount,\n",
    "$\\gamma$, should be a constant between $0$ and $1$\n",
    "that ensures the sum converges. It makes rewards from the uncertain far\n",
    "future less important for our agent than the ones in the near future\n",
    "that it can be fairly confident about.\n",
    "\n",
    "The main idea behind Q-learning is that if we had a function\n",
    "$Q^*: State \\times Action \\rightarrow \\mathbb{R}$, that could tell\n",
    "us what our return would be, if we were to take an action in a given\n",
    "state, then we could easily construct a policy that maximizes our\n",
    "rewards:\n",
    "\n",
    "\\begin{align}\\pi^*(s) = \\arg\\!\\max_a \\ Q^*(s, a)\\end{align}\n",
    "\n",
    "However, we don't know everything about the world, so we don't have\n",
    "access to $Q^*$. But, since neural networks are universal function\n",
    "approximators, we can simply create one and train it to resemble\n",
    "$Q^*$.\n",
    "\n",
    "For our training update rule, we'll use a fact that every $Q$\n",
    "function for a optimal policy in a Markov Decision Process obeys the Bellman optimality equation:\n",
    "\n",
    "\\begin{align}Q^{\\pi}(s, a) = \\mathbb{E}_{(s, a, s', r)}  r + \\gamma Q^{\\pi}(s', \\pi(s'))\\end{align}\n",
    "\n",
    "In the training of a Deep Q network, the RHS is the 'Prediction' from policy_net, the LHS is the 'Truth' from target_net.\n",
    "The difference between the two sides of the equality is known as the\n",
    "temporal difference error, $\\delta$:\n",
    "\n",
    "\\begin{align}\\delta = Q(s, a) - (r + \\gamma \\max_a Q(s', a))\\end{align}\n",
    "\n",
    "To minimise this error, we will use the [Huber\n",
    "loss](https://en.wikipedia.org/wiki/Huber_loss). The Huber loss acts\n",
    "like the mean squared error when the error is small, but like the mean\n",
    "absolute error when the error is large - this makes it more robust to\n",
    "outliers when the estimates of $Q$ are very noisy. We calculate\n",
    "this over a batch of transitions, $B$, sampled from the replay\n",
    "memory:\n",
    "\n",
    "\\begin{align}\\mathcal{L} = \\frac{1}{|B|}\\sum_{(s, a, s', r) \\ \\in \\ B} \\mathcal{L}(\\delta)\\end{align}\n",
    "\n",
    "\\begin{align}\\text{where} \\quad \\mathcal{L}(\\delta) = \\begin{cases}\n",
    "     \\frac{1}{2}{\\delta^2}  & \\text{for } |\\delta| \\le 1, \\\\\n",
    "     |\\delta| - \\frac{1}{2} & \\text{otherwise.}\n",
    "   \\end{cases}\\end{align}"
   ]
  },
  {
   "cell_type": "code",
   "execution_count": 8,
   "metadata": {
    "colab": {},
    "colab_type": "code",
    "id": "qsda1nDIX7R7"
   },
   "outputs": [],
   "source": [
    "def optimize_model():\n",
    "    if len(memory) < BATCH_SIZE:\n",
    "        return\n",
    "    transitions = memory.sample(BATCH_SIZE)\n",
    "    state_batch, action_batch, reward_batch, next_state_batch = zip(*[(np.expand_dims(m[0], axis=0), \\\n",
    "                                        [m[1]], m[2], np.expand_dims(m[3], axis=0)) for m in transitions])\n",
    "    # tensor wrapper\n",
    "    state_batch = torch.tensor(state_batch, dtype=torch.float, device=device)\n",
    "    action_batch = torch.tensor(action_batch, dtype=torch.long, device=device)\n",
    "    reward_batch = torch.tensor(reward_batch, dtype=torch.float, device=device)\n",
    "    \n",
    "    # for assigning terminal state value = 0 later\n",
    "    non_final_mask = torch.tensor(tuple(map(lambda s_: s_[0] is not None, next_state_batch)), device=device)\n",
    "    non_final_next_state = torch.cat([torch.tensor(s_, dtype=torch.float, device=device).unsqueeze(0) for s_ in next_state_batch if s_[0] is not None])\n",
    "    \n",
    "    # prediction from policy_net\n",
    "    state_action_values = policy_net(state_batch).gather(1, action_batch)\n",
    "    \n",
    "    # truth from target_net, initialize with zeros since terminal state value = 0\n",
    "    next_state_values = torch.zeros(BATCH_SIZE, device=device)\n",
    "    # tensor.detach() creates a tensor that shares storage with tensor that does not require grad\n",
    "    next_state_values[non_final_mask] = target_net(non_final_next_state).max(1)[0].detach()\n",
    "    # compute the expected Q values\n",
    "    expected_state_action_values = (next_state_values * GAMMA) + reward_batch\n",
    "\n",
    "    # Compute Huber loss\n",
    "    loss = F.smooth_l1_loss(state_action_values, expected_state_action_values.unsqueeze(1)) # torch.tensor.unsqueeze returns a copy\n",
    "\n",
    "    optimizer.zero_grad()\n",
    "    loss.backward()\n",
    "    optimizer.step()"
   ]
  },
  {
   "cell_type": "markdown",
   "metadata": {
    "colab_type": "text",
    "id": "QijTPOP7X7R_"
   },
   "source": [
    "# Training loop\n",
    "Our agent (policy_net) will play against random agent, as a baby step, it will learn how to play and win the game at a beginner level. The agent is expected to perform better than ignorance player at the end of episodes. In short, the student is expected to outperform the teacher. It is the sole goal of training.  \n"
   ]
  },
  {
   "cell_type": "code",
   "execution_count": 9,
   "metadata": {
    "colab": {},
    "colab_type": "code",
    "id": "wv7bfwIUX7SA"
   },
   "outputs": [],
   "source": [
    "# random agent\n",
    "def random_agent(actions):\n",
    "    return random.choice(actions)\n",
    "\n",
    "# win rate test\n",
    "def win_rate_test():\n",
    "    win_moves_taken_list = []\n",
    "    win = []\n",
    "    for i in range(100):\n",
    "        env.reset()\n",
    "        win_moves_taken = 0\n",
    "\n",
    "        while not env.isDone:\n",
    "            state = env.board_state.copy()\n",
    "            available_actions = env.get_available_actions()\n",
    "            action = select_action(state, available_actions, training=False)\n",
    "            state, reward = env.make_move(action, 'p1')\n",
    "            win_moves_taken += 1\n",
    "\n",
    "            if reward == 1:\n",
    "                win_moves_taken_list.append(win_moves_taken)\n",
    "                win.append(1)\n",
    "                break\n",
    "\n",
    "            available_actions = env.get_available_actions()\n",
    "            action = random_agent(available_actions)\n",
    "            state, reward = env.make_move(action, 'p2')\n",
    "\n",
    "    return sum(win)/100, sum(win_moves_taken_list)/len(win_moves_taken_list)"
   ]
  },
  {
   "cell_type": "code",
   "execution_count": 10,
   "metadata": {
    "colab": {},
    "colab_type": "code",
    "id": "seVugEMRX7SG"
   },
   "outputs": [],
   "source": [
    "# avoid resetting\n",
    "steps_done = 0\n",
    "training_history = []"
   ]
  },
  {
   "cell_type": "code",
   "execution_count": 12,
   "metadata": {
    "colab": {
     "base_uri": "https://localhost:8080/",
     "height": 1000
    },
    "colab_type": "code",
    "id": "uSlCL75vX7SK",
    "outputId": "6033066d-b3db-49ce-b1a9-b2bb2a586c4d"
   },
   "outputs": [
    {
     "name": "stdout",
     "output_type": "stream",
     "text": [
      "Complete\n"
     ]
    }
   ],
   "source": [
    "from itertools import count\n",
    "\n",
    "num_episodes = 20000\n",
    "# control how lagged is target network by updating every n episodes\n",
    "TARGET_UPDATE = 10\n",
    "\n",
    "for i in range(num_episodes): \n",
    "    env.reset()\n",
    "    state_p1 = env.board_state.copy()\n",
    "\n",
    "    # record every 20 epochs\n",
    "    if i % 20 == 19:\n",
    "        win_rate, moves_taken = win_rate_test()\n",
    "        training_history.append([i + 1, win_rate, moves_taken])\n",
    "        th = np.array(training_history)\n",
    "        # print training message every 200 epochs\n",
    "        if i % 200 == 199:\n",
    "            print('Episode {}: | win_rate: {} | moves_taken: {}'.format(i, th[-1, 1], th[-1, 2]))\n",
    "\n",
    "    for t in count():\n",
    "        available_actions = env.get_available_actions()\n",
    "        action_p1 = select_action(state_p1, available_actions, steps_done)\n",
    "        steps_done += 1\n",
    "        state_p1_, reward_p1 = env.make_move(action_p1, 'p1')\n",
    "        \n",
    "        if env.isDone:\n",
    "            if reward_p1 == 1:\n",
    "                # reward p1 for p1's win\n",
    "                memory.dump([state_p1, action_p1, 1, None])\n",
    "            else:\n",
    "                # state action value tuple for a draw\n",
    "                memory.dump([state_p1, action_p1, 0.5, None])\n",
    "            break\n",
    "        \n",
    "        available_actions = env.get_available_actions()\n",
    "        action_p2 = random_agent(available_actions)\n",
    "        state_p2_, reward_p2 = env.make_move(action_p2, 'p2')\n",
    "        \n",
    "        if env.isDone:\n",
    "            if reward_p2 == 1:\n",
    "                # punish p1 for (random agent) p2's win \n",
    "                memory.dump([state_p1, action_p1, -1, None])\n",
    "            else:\n",
    "                # state action value tuple for a draw\n",
    "                memory.dump([state_p1, action_p1, 0.5, None])\n",
    "            break\n",
    "        \n",
    "        # punish for taking too long to win\n",
    "        memory.dump([state_p1, action_p1, -0.05, state_p2_])\n",
    "        state_p1 = state_p2_\n",
    "        \n",
    "        # Perform one step of the optimization (on the policy network)\n",
    "        optimize_model()\n",
    "        \n",
    "    # update the target network, copying all weights and biases in DQN\n",
    "    if i % TARGET_UPDATE == TARGET_UPDATE - 1:\n",
    "        target_net.load_state_dict(policy_net.state_dict())\n",
    "\n",
    "print('Complete')"
   ]
  },
  {
   "cell_type": "code",
   "execution_count": 21,
   "metadata": {
    "colab": {
     "base_uri": "https://localhost:8080/",
     "height": 556
    },
    "colab_type": "code",
    "id": "ONshTG-y3A0P",
    "outputId": "6406e403-c6f5-47e4-ee76-dcbc9fda69ac"
   },
   "outputs": [
    {
     "ename": "IndexError",
     "evalue": "too many indices for array: array is 0-dimensional, but 2 were indexed",
     "output_type": "error",
     "traceback": [
      "\u001b[1;31m---------------------------------------------------------------------------\u001b[0m",
      "\u001b[1;31mIndexError\u001b[0m                                Traceback (most recent call last)",
      "Cell \u001b[1;32mIn[21], line 38\u001b[0m\n\u001b[0;32m     36\u001b[0m win_rate_moving_average \u001b[38;5;241m=\u001b[39m np\u001b[38;5;241m.\u001b[39marray([(i \u001b[38;5;241m+\u001b[39m \u001b[38;5;241m19\u001b[39m) \u001b[38;5;241m*\u001b[39m \u001b[38;5;241m20\u001b[39m, np\u001b[38;5;241m.\u001b[39mmean(th[i: i \u001b[38;5;241m+\u001b[39m \u001b[38;5;241m20\u001b[39m, \u001b[38;5;241m1\u001b[39m])] \u001b[38;5;28;01mfor\u001b[39;00m i \u001b[38;5;129;01min\u001b[39;00m \u001b[38;5;28mrange\u001b[39m(\u001b[38;5;28mlen\u001b[39m(th) \u001b[38;5;241m-\u001b[39m \u001b[38;5;241m19\u001b[39m))\n\u001b[0;32m     37\u001b[0m win_rate_moving_average \u001b[38;5;241m=\u001b[39m np\u001b[38;5;241m.\u001b[39marray(win_rate_moving_average\u001b[38;5;241m.\u001b[39mtolist())  \u001b[38;5;66;03m# Convert to 2D array\u001b[39;00m\n\u001b[1;32m---> 38\u001b[0m plt\u001b[38;5;241m.\u001b[39mplot(\u001b[43mwin_rate_moving_average\u001b[49m\u001b[43m[\u001b[49m\u001b[43m:\u001b[49m\u001b[43m,\u001b[49m\u001b[43m \u001b[49m\u001b[38;5;241;43m0\u001b[39;49m\u001b[43m]\u001b[49m, win_rate_moving_average[:, \u001b[38;5;241m1\u001b[39m], c\u001b[38;5;241m=\u001b[39m\u001b[38;5;124m'\u001b[39m\u001b[38;5;124mb\u001b[39m\u001b[38;5;124m'\u001b[39m, label\u001b[38;5;241m=\u001b[39m\u001b[38;5;124m'\u001b[39m\u001b[38;5;124mmoving average of win rate\u001b[39m\u001b[38;5;124m'\u001b[39m)\n\u001b[0;32m     39\u001b[0m plt\u001b[38;5;241m.\u001b[39mlegend()\n\u001b[0;32m     40\u001b[0m plt\u001b[38;5;241m.\u001b[39mtitle(\u001b[38;5;124m'\u001b[39m\u001b[38;5;124mPlaying against random agent\u001b[39m\u001b[38;5;124m'\u001b[39m)\n",
      "\u001b[1;31mIndexError\u001b[0m: too many indices for array: array is 0-dimensional, but 2 were indexed"
     ]
    },
    {
     "data": {
      "image/png": "[encoded data removed]",
      "text/plain": [
       "<Figure size 640x480 with 1 Axes>"
      ]
     },
     "metadata": {},
     "output_type": "display_data"
    }
   ],
   "source": [
    "\"\"\"plt.plot(th[:, 0], th[:, 1], c='c')\n",
    "win_rate_moving_average = np.array([[(i + 19) * 20, np.mean(th[i: i + 20, 1])] for i in range(len(th) - 19)])\n",
    "plt.plot(win_rate_moving_average[:, 0], win_rate_moving_average[:, 1], c='b', label='moving average of win rate')\n",
    "plt.legend()\n",
    "plt.title('Playing against random agent')\n",
    "plt.xlabel('Episode no.')\n",
    "plt.ylabel('Win rate')\n",
    "plt.show()\n",
    "\n",
    "plt.plot(th[:, 0], th[:, 2], c='c')\n",
    "win_steps_taken_moving_average = np.array([[(i + 19) * 20, np.mean(th[i: i + 20, 2])] for i in range(len(th) - 19)])\n",
    "plt.plot(win_steps_taken_moving_average[:, 0], win_steps_taken_moving_average[:, 1], c='b', label='moving average of win steps taken')\n",
    "plt.legend()\n",
    "plt.xlabel('Episode no.')\n",
    "plt.ylabel('Average steps taken for a win')\n",
    "plt.show()\"\"\"\n",
    "\n",
    "\"\"\"plt.plot(th[:, 0], th[:, 1], c='c')\n",
    "win_rate_moving_average = np.array([[(i + 19) * 20, np.mean(th[i: i + 20, 1])] for i in range(len(th) - 19)])\n",
    "plt.plot(win_rate_moving_average[:, 0], win_rate_moving_average[:, 1], c='b', label='moving average of win rate')\n",
    "plt.legend()\n",
    "plt.title('Playing against random agent')\n",
    "plt.xlabel('Episode no.')\n",
    "plt.ylabel('Win rate')\n",
    "plt.show()\n",
    "\n",
    "plt.plot(th[:, 0], th[:, 2], c='c')\n",
    "win_steps_taken_moving_average = np.array([[(i + 19) * 20, np.mean(th[i: i + 20, 2])] for i in range(len(th) - 19)])\n",
    "plt.plot(win_steps_taken_moving_average[:, 0], win_steps_taken_moving_average[:, 1], c='b', label='moving average of win steps taken')\n",
    "plt.legend()\n",
    "plt.xlabel('Episode no.')\n",
    "plt.ylabel('Average steps taken for a win')\n",
    "plt.show()\"\"\"\n",
    "\n",
    "plt.plot(th[:, 0], th[:, 1], c='c')\n",
    "win_rate_moving_average = np.array([(i + 19) * 20, np.mean(th[i: i + 20, 1])] for i in range(len(th) - 19))\n",
    "win_rate_moving_average = np.array(win_rate_moving_average.tolist())  # Convert to 2D array\n",
    "plt.plot(win_rate_moving_average[:, 0], win_rate_moving_average[:, 1], c='b', label='moving average of win rate')\n",
    "plt.legend()\n",
    "plt.title('Playing against random agent')\n",
    "plt.xlabel('Episode no.')\n",
    "plt.ylabel('Win rate')\n",
    "plt.show()\n",
    "\n",
    "plt.plot(th[:, 0], th[:, 2], c='c')\n",
    "win_steps_taken_moving_average = np.array([(i + 19) * 20, np.mean(th[i: i + 20, 2])] for i in range(len(th) - 19))\n",
    "win_steps_taken_moving_average = np.array(win_steps_taken_moving_average.tolist())  # Convert to 2D array\n",
    "plt.plot(win_steps_taken_moving_average[:, 0], win_steps_taken_moving_average[:, 1], c='b', label='moving average of win steps taken')\n",
    "plt.legend()\n",
    "plt.xlabel('Episode no.')\n",
    "plt.ylabel('Average steps taken for a win')\n",
    "plt.show()"
   ]
  },
  {
   "cell_type": "markdown",
   "metadata": {
    "colab_type": "text",
    "id": "d9QMIgxZRi8h"
   },
   "source": [
    "As one can see from the graph above, \n",
    "* The variance of win rate is getting smaller and the moving average for win rate is also getting higher. \n",
    "* The average win steps taken has gone down, which means the agent has learnt to win as fast as possible.\n",
    "\n",
    "Both are the indication of the fact that our agent has learnt how to win Connect 4."
   ]
  },
  {
   "cell_type": "code",
   "execution_count": 22,
   "metadata": {
    "colab": {},
    "colab_type": "code",
    "id": "qSftrJqS6SyX"
   },
   "outputs": [],
   "source": [
    "path = 'DQN_plainCNN.pth'\n",
    "torch.save(policy_net.state_dict(), path)"
   ]
  },
  {
   "cell_type": "markdown",
   "metadata": {
    "colab_type": "text",
    "id": "inAIRHSbDKfa"
   },
   "source": [
    "# Demonstration of a trained agent playing a game"
   ]
  },
  {
   "cell_type": "code",
   "execution_count": 23,
   "metadata": {
    "colab": {
     "base_uri": "https://localhost:8080/",
     "height": 1000
    },
    "colab_type": "code",
    "id": "1EqVMrz39bJe",
    "outputId": "17e74110-a6a2-445a-b45b-e0437595b623"
   },
   "outputs": [
    {
     "name": "stderr",
     "output_type": "stream",
     "text": [
      "C:\\Users\\ASUS\\AppData\\Local\\Temp\\ipykernel_3388\\1160232653.py:16: FutureWarning: In the future `np.str` will be defined as the corresponding NumPy scalar.\n",
      "  rendered_board_state = self.board_state.copy().astype(np.str)\n"
     ]
    },
    {
     "ename": "AttributeError",
     "evalue": "module 'numpy' has no attribute 'str'.\n`np.str` was a deprecated alias for the builtin `str`. To avoid this error in existing code, use `str` by itself. Doing this will not modify any behavior and is safe. If you specifically wanted the numpy scalar type, use `np.str_` here.\nThe aliases was originally deprecated in NumPy 1.20; for more details and guidance see the original release note at:\n    https://numpy.org/devdocs/release/1.20.0-notes.html#deprecations",
     "output_type": "error",
     "traceback": [
      "\u001b[1;31m---------------------------------------------------------------------------\u001b[0m",
      "\u001b[1;31mAttributeError\u001b[0m                            Traceback (most recent call last)",
      "Cell \u001b[1;32mIn[23], line 21\u001b[0m\n\u001b[0;32m     18\u001b[0m         state, reward \u001b[38;5;241m=\u001b[39m env\u001b[38;5;241m.\u001b[39mmake_move(action, \u001b[38;5;124m'\u001b[39m\u001b[38;5;124mp2\u001b[39m\u001b[38;5;124m'\u001b[39m)\n\u001b[0;32m     19\u001b[0m         env\u001b[38;5;241m.\u001b[39mrender()\n\u001b[1;32m---> 21\u001b[0m \u001b[43mdemo\u001b[49m\u001b[43m(\u001b[49m\u001b[43m)\u001b[49m\n",
      "Cell \u001b[1;32mIn[23], line 3\u001b[0m, in \u001b[0;36mdemo\u001b[1;34m()\u001b[0m\n\u001b[0;32m      1\u001b[0m \u001b[38;5;28;01mdef\u001b[39;00m \u001b[38;5;21mdemo\u001b[39m():\n\u001b[0;32m      2\u001b[0m     env\u001b[38;5;241m.\u001b[39mreset()\n\u001b[1;32m----> 3\u001b[0m     \u001b[43menv\u001b[49m\u001b[38;5;241;43m.\u001b[39;49m\u001b[43mrender\u001b[49m\u001b[43m(\u001b[49m\u001b[43m)\u001b[49m\n\u001b[0;32m      5\u001b[0m     \u001b[38;5;28;01mwhile\u001b[39;00m \u001b[38;5;129;01mnot\u001b[39;00m env\u001b[38;5;241m.\u001b[39misDone:\n\u001b[0;32m      6\u001b[0m         state \u001b[38;5;241m=\u001b[39m env\u001b[38;5;241m.\u001b[39mboard_state\u001b[38;5;241m.\u001b[39mcopy()\n",
      "Cell \u001b[1;32mIn[1], line 16\u001b[0m, in \u001b[0;36mconnect_x.render\u001b[1;34m(self)\u001b[0m\n\u001b[0;32m     15\u001b[0m \u001b[38;5;28;01mdef\u001b[39;00m \u001b[38;5;21mrender\u001b[39m(\u001b[38;5;28mself\u001b[39m):\n\u001b[1;32m---> 16\u001b[0m     rendered_board_state \u001b[38;5;241m=\u001b[39m \u001b[38;5;28mself\u001b[39m\u001b[38;5;241m.\u001b[39mboard_state\u001b[38;5;241m.\u001b[39mcopy()\u001b[38;5;241m.\u001b[39mastype(\u001b[43mnp\u001b[49m\u001b[38;5;241;43m.\u001b[39;49m\u001b[43mstr\u001b[49m)\n\u001b[0;32m     17\u001b[0m     rendered_board_state[\u001b[38;5;28mself\u001b[39m\u001b[38;5;241m.\u001b[39mboard_state \u001b[38;5;241m==\u001b[39m \u001b[38;5;241m0\u001b[39m] \u001b[38;5;241m=\u001b[39m \u001b[38;5;124m'\u001b[39m\u001b[38;5;124m \u001b[39m\u001b[38;5;124m'\u001b[39m\n\u001b[0;32m     18\u001b[0m     rendered_board_state[\u001b[38;5;28mself\u001b[39m\u001b[38;5;241m.\u001b[39mboard_state \u001b[38;5;241m==\u001b[39m \u001b[38;5;241m1\u001b[39m] \u001b[38;5;241m=\u001b[39m \u001b[38;5;124m'\u001b[39m\u001b[38;5;124mO\u001b[39m\u001b[38;5;124m'\u001b[39m\n",
      "File \u001b[1;32m~\\AppData\\Local\\Packages\\PythonSoftwareFoundation.Python.3.10_qbz5n2kfra8p0\\LocalCache\\local-packages\\Python310\\site-packages\\numpy\\__init__.py:338\u001b[0m, in \u001b[0;36m__getattr__\u001b[1;34m(attr)\u001b[0m\n\u001b[0;32m    333\u001b[0m     warnings\u001b[38;5;241m.\u001b[39mwarn(\n\u001b[0;32m    334\u001b[0m         \u001b[38;5;124mf\u001b[39m\u001b[38;5;124m\"\u001b[39m\u001b[38;5;124mIn the future `np.\u001b[39m\u001b[38;5;132;01m{\u001b[39;00mattr\u001b[38;5;132;01m}\u001b[39;00m\u001b[38;5;124m` will be defined as the \u001b[39m\u001b[38;5;124m\"\u001b[39m\n\u001b[0;32m    335\u001b[0m         \u001b[38;5;124m\"\u001b[39m\u001b[38;5;124mcorresponding NumPy scalar.\u001b[39m\u001b[38;5;124m\"\u001b[39m, \u001b[38;5;167;01mFutureWarning\u001b[39;00m, stacklevel\u001b[38;5;241m=\u001b[39m\u001b[38;5;241m2\u001b[39m)\n\u001b[0;32m    337\u001b[0m \u001b[38;5;28;01mif\u001b[39;00m attr \u001b[38;5;129;01min\u001b[39;00m __former_attrs__:\n\u001b[1;32m--> 338\u001b[0m     \u001b[38;5;28;01mraise\u001b[39;00m \u001b[38;5;167;01mAttributeError\u001b[39;00m(__former_attrs__[attr])\n\u001b[0;32m    340\u001b[0m \u001b[38;5;28;01mif\u001b[39;00m attr \u001b[38;5;241m==\u001b[39m \u001b[38;5;124m'\u001b[39m\u001b[38;5;124mtesting\u001b[39m\u001b[38;5;124m'\u001b[39m:\n\u001b[0;32m    341\u001b[0m     \u001b[38;5;28;01mimport\u001b[39;00m \u001b[38;5;21;01mnumpy\u001b[39;00m\u001b[38;5;21;01m.\u001b[39;00m\u001b[38;5;21;01mtesting\u001b[39;00m \u001b[38;5;28;01mas\u001b[39;00m \u001b[38;5;21;01mtesting\u001b[39;00m\n",
      "\u001b[1;31mAttributeError\u001b[0m: module 'numpy' has no attribute 'str'.\n`np.str` was a deprecated alias for the builtin `str`. To avoid this error in existing code, use `str` by itself. Doing this will not modify any behavior and is safe. If you specifically wanted the numpy scalar type, use `np.str_` here.\nThe aliases was originally deprecated in NumPy 1.20; for more details and guidance see the original release note at:\n    https://numpy.org/devdocs/release/1.20.0-notes.html#deprecations"
     ]
    }
   ],
   "source": [
    "def demo():\n",
    "    env.reset()\n",
    "    env.render()\n",
    "\n",
    "    while not env.isDone:\n",
    "        state = env.board_state.copy()\n",
    "        available_actions = env.get_available_actions()\n",
    "        action = select_action(state, available_actions, training=False)\n",
    "        # trained agent's move is denoted by O\n",
    "        state, reward = env.make_move(action, 'p1')\n",
    "        env.render()\n",
    "\n",
    "        if reward == 1:\n",
    "            break\n",
    "\n",
    "        available_actions = env.get_available_actions()\n",
    "        action = random_agent(available_actions)\n",
    "        state, reward = env.make_move(action, 'p2')\n",
    "        env.render()\n",
    "\n",
    "demo()"
   ]
  },
  {
   "cell_type": "markdown",
   "metadata": {
    "colab": {},
    "colab_type": "code",
    "id": "bZwPms8h9bQP"
   },
   "source": [
    "From the above gameplay, the agent (denoted by O) knows putting in (5, 1) is a winning move even after its original strategy is blocked by p2 in step 5 by putting X in (3, 2)."
   ]
  },
  {
   "cell_type": "code",
   "execution_count": null,
   "metadata": {},
   "outputs": [],
   "source": []
  }
 ],
 "metadata": {
  "accelerator": "GPU",
  "colab": {
   "collapsed_sections": [],
   "name": "connect X.ipynb",
   "provenance": []
  },
  "kernelspec": {
   "display_name": "Python 3",
   "language": "python",
   "name": "python3"
  },
  "language_info": {
   "codemirror_mode": {
    "name": "ipython",
    "version": 3
   },
   "file_extension": ".py",
   "mimetype": "text/x-python",
   "name": "python",
   "nbconvert_exporter": "python",
   "pygments_lexer": "ipython3",
   "version": "3.10.11"
  }
 },
 "nbformat": 4,
 "nbformat_minor": 1
}
